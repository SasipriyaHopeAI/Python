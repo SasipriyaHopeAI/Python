{
 "cells": [
  {
   "cell_type": "code",
   "execution_count": 1,
   "id": "484a24d3",
   "metadata": {},
   "outputs": [
    {
     "name": "stdout",
     "output_type": "stream",
     "text": [
      "Enter your name:Sasipriya\n",
      "Enter your age:37\n",
      "Enter your school name:GKDMHSS\n",
      "Enter your degree:M.Sc.\n",
      "Sasipriya\n",
      "37\n",
      "GKDMHSS\n",
      "M.Sc.\n"
     ]
    }
   ],
   "source": [
    "name=input(\"Enter your name:\")\n",
    "age=int(input(\"Enter your age:\"))\n",
    "school=input(\"Enter your school name:\")\n",
    "degree=input(\"Enter your degree:\")\n",
    "lists=[name,age,school,degree]\n",
    "for details in lists:\n",
    "    print(details)"
   ]
  },
  {
   "cell_type": "code",
   "execution_count": 2,
   "id": "2044baf1",
   "metadata": {},
   "outputs": [
    {
     "name": "stdout",
     "output_type": "stream",
     "text": [
      "a=43\n",
      "b=34\n",
      "add= 77\n",
      "Sub= 9\n",
      "mul= 1462\n"
     ]
    }
   ],
   "source": [
    "a=int(input(\"a=\"))\n",
    "b=int(input(\"b=\"))\n",
    "add=a+b\n",
    "Sub=a-b\n",
    "mul=a*b\n",
    "print(\"add=\",add)\n",
    "print(\"Sub=\",Sub)\n",
    "print(\"mul=\",mul)"
   ]
  },
  {
   "cell_type": "code",
   "execution_count": 2,
   "id": "e9ea534e",
   "metadata": {},
   "outputs": [
    {
     "name": "stdout",
     "output_type": "stream",
     "text": [
      "Your name-Sasipriya\n",
      "Your age-37\n",
      "Your profession-Medical coder\n"
     ]
    }
   ],
   "source": [
    "Name1=(\"Your name-Sasipriya\")\n",
    "Age1=(\"Your age-37\")\n",
    "Pro=(\"Your profession-Medical coder\")\n",
    "lists=[Name1,Age1,Pro]\n",
    "for PD in lists:\n",
    "    print(PD)"
   ]
  },
  {
   "cell_type": "code",
   "execution_count": null,
   "id": "0ccc85c6",
   "metadata": {},
   "outputs": [],
   "source": []
  }
 ],
 "metadata": {
  "kernelspec": {
   "display_name": "Python 3 (ipykernel)",
   "language": "python",
   "name": "python3"
  },
  "language_info": {
   "codemirror_mode": {
    "name": "ipython",
    "version": 3
   },
   "file_extension": ".py",
   "mimetype": "text/x-python",
   "name": "python",
   "nbconvert_exporter": "python",
   "pygments_lexer": "ipython3",
   "version": "3.11.5"
  }
 },
 "nbformat": 4,
 "nbformat_minor": 5
}
