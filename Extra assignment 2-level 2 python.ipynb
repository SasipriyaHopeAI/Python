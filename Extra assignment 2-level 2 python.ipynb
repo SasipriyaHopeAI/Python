{
 "cells": [
  {
   "cell_type": "code",
   "execution_count": 7,
   "id": "a4394675",
   "metadata": {},
   "outputs": [
    {
     "name": "stdout",
     "output_type": "stream",
     "text": [
      "0\n",
      "1\n",
      "2\n",
      "3\n",
      "4\n",
      "5\n",
      "6\n",
      "7\n",
      "8\n",
      "9\n",
      "10\n",
      "11\n",
      "12\n",
      "13\n",
      "14\n",
      "15\n",
      "16\n",
      "17\n",
      "18\n",
      "19\n"
     ]
    }
   ],
   "source": [
    "for num in range(0,20):\n",
    "    print(num)"
   ]
  },
  {
   "cell_type": "code",
   "execution_count": 6,
   "id": "c41d3361",
   "metadata": {},
   "outputs": [
    {
     "name": "stdout",
     "output_type": "stream",
     "text": [
      "[10, 11, 12, 13, 14, 15, 16, 17, 18, 19]\n"
     ]
    }
   ],
   "source": [
    "num=list(range(10,20))\n",
    "print(num)"
   ]
  },
  {
   "cell_type": "code",
   "execution_count": 3,
   "id": "d69ad3ef",
   "metadata": {},
   "outputs": [
    {
     "name": "stdout",
     "output_type": "stream",
     "text": [
      "10 11 12 13 14 15 16 17 18 19 "
     ]
    }
   ],
   "source": [
    "for num in range(10,20):\n",
    "    print(num,end=' ')"
   ]
  },
  {
   "cell_type": "code",
   "execution_count": 5,
   "id": "7ad5e484",
   "metadata": {},
   "outputs": [
    {
     "name": "stdout",
     "output_type": "stream",
     "text": [
      "10\n",
      "20\n",
      "14\n",
      "55\n",
      "43\n",
      "87\n",
      "76\n"
     ]
    }
   ],
   "source": [
    "lists=[10,20,14,55,43,87,76]\n",
    "for items in lists:\n",
    "    print(items)"
   ]
  },
  {
   "cell_type": "code",
   "execution_count": 4,
   "id": "5bbb2fbf",
   "metadata": {},
   "outputs": [
    {
     "data": {
      "text/plain": [
       "7"
      ]
     },
     "execution_count": 4,
     "metadata": {},
     "output_type": "execute_result"
    }
   ],
   "source": [
    "len([10,20,14,55,43,87,76])"
   ]
  },
  {
   "cell_type": "code",
   "execution_count": 4,
   "id": "9787f29c",
   "metadata": {},
   "outputs": [
    {
     "name": "stdout",
     "output_type": "stream",
     "text": [
      "[10, 20, 14, 55, 43, 87, 76]\n",
      "Number of item in the List2: 7\n"
     ]
    }
   ],
   "source": [
    "lists=[10,20,14,55,43,87,76]\n",
    "print(lists)\n",
    "print(\"Number of item in the List2:\",len([10,20,14,55,43,87,76]))"
   ]
  },
  {
   "cell_type": "code",
   "execution_count": 1,
   "id": "13148a95",
   "metadata": {},
   "outputs": [
    {
     "name": "stdout",
     "output_type": "stream",
     "text": [
      "Artificial Intelligence\n"
     ]
    }
   ],
   "source": [
    "strn='Artificial Intelligence'\n",
    "print(strn)"
   ]
  },
  {
   "cell_type": "code",
   "execution_count": 2,
   "id": "7d2e2818",
   "metadata": {},
   "outputs": [
    {
     "name": "stdout",
     "output_type": "stream",
     "text": [
      "Artificial Intelligence\n",
      "Artificial Intelligence\n",
      "Artificial Intelligence\n",
      "Artificial Intelligence\n",
      "Artificial Intelligence\n",
      "Artificial Intelligence\n",
      "Artificial Intelligence\n",
      "Artificial Intelligence\n",
      "Artificial Intelligence\n",
      "Artificial Intelligence\n",
      "Artificial Intelligence\n",
      "Artificial Intelligence\n",
      "Artificial Intelligence\n",
      "Artificial Intelligence\n",
      "Artificial Intelligence\n",
      "Artificial Intelligence\n",
      "Artificial Intelligence\n",
      "Artificial Intelligence\n",
      "Artificial Intelligence\n",
      "Artificial Intelligence\n",
      "Artificial Intelligence\n",
      "Artificial Intelligence\n",
      "Artificial Intelligence\n"
     ]
    }
   ],
   "source": [
    "for course in strn:\n",
    "    print(strn)"
   ]
  },
  {
   "cell_type": "code",
   "execution_count": 3,
   "id": "efa437ae",
   "metadata": {},
   "outputs": [
    {
     "name": "stdout",
     "output_type": "stream",
     "text": [
      "A\n",
      "r\n",
      "t\n",
      "i\n",
      "f\n",
      "i\n",
      "c\n",
      "i\n",
      "a\n",
      "l\n",
      " \n",
      "I\n",
      "n\n",
      "t\n",
      "e\n",
      "l\n",
      "l\n",
      "i\n",
      "g\n",
      "e\n",
      "n\n",
      "c\n",
      "e\n"
     ]
    }
   ],
   "source": [
    "for course in strn:\n",
    "    print(course)"
   ]
  },
  {
   "cell_type": "code",
   "execution_count": 1,
   "id": "395cd046",
   "metadata": {},
   "outputs": [
    {
     "name": "stdout",
     "output_type": "stream",
     "text": [
      "Your name-Sasipriya\n",
      "Your age-36\n",
      "Your profession-Medical coder\n"
     ]
    },
    {
     "data": {
      "text/plain": [
       "'Medical coder'"
      ]
     },
     "execution_count": 1,
     "metadata": {},
     "output_type": "execute_result"
    }
   ],
   "source": [
    "input(\"Your name-\")\n",
    "int(input(\"Your age-\"))\n",
    "input(\"Your profession-\")"
   ]
  },
  {
   "cell_type": "code",
   "execution_count": 1,
   "id": "ecf8d9a4",
   "metadata": {},
   "outputs": [
    {
     "name": "stdout",
     "output_type": "stream",
     "text": [
      "(1, 'Welcome', 2, 'Hope')\n"
     ]
    }
   ],
   "source": [
    "Tuple1 = (1, 'Welcome', 2, 'Hope')\n",
    "print(Tuple1)"
   ]
  },
  {
   "cell_type": "code",
   "execution_count": 2,
   "id": "33fc3ea1",
   "metadata": {},
   "outputs": [
    {
     "name": "stdout",
     "output_type": "stream",
     "text": [
      "((0, 1, 2, 3), ('python', 'HOPE'))\n"
     ]
    }
   ],
   "source": [
    "Tuple1 = (0, 1, 2, 3)\n",
    "Tuple2 = ('python', 'HOPE')\n",
    "Tuple3 = (Tuple1, Tuple2)\n",
    "print(Tuple3)"
   ]
  },
  {
   "cell_type": "code",
   "execution_count": 6,
   "id": "43f1e263",
   "metadata": {},
   "outputs": [
    {
     "name": "stdout",
     "output_type": "stream",
     "text": [
      "[20, 10, 16, 19, 25, 1, 276, 188]\n"
     ]
    }
   ],
   "source": [
    "lists=[20,10,16,19,25,1,276,188]\n",
    "print(lists)"
   ]
  },
  {
   "cell_type": "code",
   "execution_count": 15,
   "id": "d6c3031e",
   "metadata": {},
   "outputs": [
    {
     "name": "stdout",
     "output_type": "stream",
     "text": [
      "19 is odd\n",
      "25 is odd\n",
      "1 is odd\n"
     ]
    }
   ],
   "source": [
    "for odd in lists:\n",
    "    if odd%2==1:\n",
    "        print(odd,\"is odd\")\n"
   ]
  },
  {
   "cell_type": "code",
   "execution_count": 16,
   "id": "932f685d",
   "metadata": {},
   "outputs": [
    {
     "name": "stdout",
     "output_type": "stream",
     "text": [
      "(20, 10, 16, 19, 25, 1, 276, 188)\n"
     ]
    }
   ],
   "source": [
    "lists=(20,10,16,19,25,1,276,188)\n",
    "print(lists)"
   ]
  },
  {
   "cell_type": "code",
   "execution_count": 18,
   "id": "895d92ef",
   "metadata": {},
   "outputs": [
    {
     "name": "stdout",
     "output_type": "stream",
     "text": [
      "20 is odd\n",
      "10 is odd\n",
      "16 is odd\n",
      "276 is odd\n",
      "188 is odd\n"
     ]
    }
   ],
   "source": [
    "for odd in lists:\n",
    "    if odd%2==0:\n",
    "        print(odd,\"is odd\")"
   ]
  },
  {
   "cell_type": "code",
   "execution_count": null,
   "id": "a0ff4a34",
   "metadata": {},
   "outputs": [],
   "source": []
  }
 ],
 "metadata": {
  "kernelspec": {
   "display_name": "Python 3 (ipykernel)",
   "language": "python",
   "name": "python3"
  },
  "language_info": {
   "codemirror_mode": {
    "name": "ipython",
    "version": 3
   },
   "file_extension": ".py",
   "mimetype": "text/x-python",
   "name": "python",
   "nbconvert_exporter": "python",
   "pygments_lexer": "ipython3",
   "version": "3.11.5"
  }
 },
 "nbformat": 4,
 "nbformat_minor": 5
}
