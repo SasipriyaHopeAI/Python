{
 "cells": [
  {
   "cell_type": "code",
   "execution_count": 2,
   "id": "d375ed5c",
   "metadata": {},
   "outputs": [],
   "source": [
    "from Classfunction import ArtificialIntelligence"
   ]
  },
  {
   "cell_type": "code",
   "execution_count": 3,
   "id": "cb8782bf",
   "metadata": {},
   "outputs": [
    {
     "name": "stdout",
     "output_type": "stream",
     "text": [
      "Sub-fields in AI are:\n",
      "Machine Learning\n",
      "Neural Networks\n",
      "Vision\n",
      "Robotics\n",
      "Speech Processing\n",
      "Natural Language Processing\n"
     ]
    }
   ],
   "source": [
    "ArtificialIntelligence.Subfields()"
   ]
  },
  {
   "cell_type": "code",
   "execution_count": 4,
   "id": "55834fc5",
   "metadata": {},
   "outputs": [
    {
     "name": "stdout",
     "output_type": "stream",
     "text": [
      "Enter a number:52452\n",
      "52452 is Even number\n"
     ]
    },
    {
     "data": {
      "text/plain": [
       "(52452, 'is Even number')"
      ]
     },
     "execution_count": 4,
     "metadata": {},
     "output_type": "execute_result"
    }
   ],
   "source": [
    "ArtificialIntelligence.OddEven()"
   ]
  },
  {
   "cell_type": "code",
   "execution_count": 5,
   "id": "bfa5626b",
   "metadata": {},
   "outputs": [
    {
     "name": "stdout",
     "output_type": "stream",
     "text": [
      "Your Gender:Male\n",
      "Your Age:20\n",
      "NOT ELIGIBLE\n"
     ]
    },
    {
     "data": {
      "text/plain": [
       "'NOT ELIGIBLE'"
      ]
     },
     "execution_count": 5,
     "metadata": {},
     "output_type": "execute_result"
    }
   ],
   "source": [
    "ArtificialIntelligence.Eligibility()"
   ]
  },
  {
   "cell_type": "code",
   "execution_count": 6,
   "id": "6d2e2d1d",
   "metadata": {},
   "outputs": [
    {
     "name": "stdout",
     "output_type": "stream",
     "text": [
      "Subject1= 98\n",
      "Subject2= 87\n",
      "Subject3= 95\n",
      "Subject4= 95\n",
      "Subject5= 93\n",
      "Total :  468\n",
      "Percentage :  93.6\n"
     ]
    }
   ],
   "source": [
    "ArtificialIntelligence.percentage()"
   ]
  },
  {
   "cell_type": "code",
   "execution_count": 7,
   "id": "76cc217a",
   "metadata": {},
   "outputs": [
    {
     "name": "stdout",
     "output_type": "stream",
     "text": [
      "Height:32\n",
      "Breadth:34\n",
      "Area of Triangle: 544.0\n",
      "Height1:2\n",
      "Height2:2\n",
      "Breadth1:4\n",
      "Perimeter of Triangle:  8\n"
     ]
    }
   ],
   "source": [
    "ArtificialIntelligence.triangle()"
   ]
  },
  {
   "cell_type": "code",
   "execution_count": null,
   "id": "d7a59d41",
   "metadata": {},
   "outputs": [],
   "source": []
  }
 ],
 "metadata": {
  "kernelspec": {
   "display_name": "Python 3 (ipykernel)",
   "language": "python",
   "name": "python3"
  },
  "language_info": {
   "codemirror_mode": {
    "name": "ipython",
    "version": 3
   },
   "file_extension": ".py",
   "mimetype": "text/x-python",
   "name": "python",
   "nbconvert_exporter": "python",
   "pygments_lexer": "ipython3",
   "version": "3.11.5"
  }
 },
 "nbformat": 4,
 "nbformat_minor": 5
}
