{
 "cells": [
  {
   "cell_type": "code",
   "execution_count": 1,
   "id": "5fba8e3c",
   "metadata": {},
   "outputs": [],
   "source": [
    "a=\"Machine Learning\"\n",
    "b=\"Neural Networks\"\n",
    "c=\"Vision\"\n",
    "d=\"Robotics\"\n",
    "e=\"Speech Processing\"\n",
    "f=\"Natural Language Processing\"\n",
    "lists=[a,b,c,d,e,f]\n",
    "    "
   ]
  },
  {
   "cell_type": "code",
   "execution_count": 2,
   "id": "14b6d45a",
   "metadata": {},
   "outputs": [],
   "source": [
    "def Subfields():\n",
    "    AI=input(\"Sub-fields in AI are:\")\n",
    "    for message in lists:\n",
    "        print(message)"
   ]
  },
  {
   "cell_type": "code",
   "execution_count": 3,
   "id": "105938dc",
   "metadata": {},
   "outputs": [
    {
     "name": "stdout",
     "output_type": "stream",
     "text": [
      "Sub-fields in AI are::\n",
      "Machine Learning\n",
      "Neural Networks\n",
      "Vision\n",
      "Robotics\n",
      "Speech Processing\n",
      "Natural Language Processing\n"
     ]
    }
   ],
   "source": [
    "Subfields()"
   ]
  },
  {
   "cell_type": "code",
   "execution_count": 6,
   "id": "935ed4c2",
   "metadata": {},
   "outputs": [],
   "source": [
    "def OddEven():\n",
    "    num=int(input(\"Enter a number:\"))\n",
    "    if(num%2==0):\n",
    "        print(num,\"is Even number\")\n",
    "        message=(num, \"is Even number\")\n",
    "    else:\n",
    "        print(num,\"is Odd number\")\n",
    "        message=(num, \"is Odd number\")\n",
    "    \n",
    "    "
   ]
  },
  {
   "cell_type": "code",
   "execution_count": 4,
   "id": "07a3e86f",
   "metadata": {},
   "outputs": [
    {
     "name": "stdout",
     "output_type": "stream",
     "text": [
      "Enter a number:52452\n",
      "52452 is Even number\n"
     ]
    }
   ],
   "source": [
    "OddEven()"
   ]
  },
  {
   "cell_type": "code",
   "execution_count": 11,
   "id": "53492317",
   "metadata": {},
   "outputs": [],
   "source": [
    "def Eligibility():\n",
    "    Gender=input(\"Your Gender:\")\n",
    "    Age=int(input(\"Your Age:\"))\n",
    "    if(Gender=='Male' and Age>21):\n",
    "        print(\"Eligible\")\n",
    "        message=\"Eligible\"\n",
    "    elif(Gender=='Female' and Age>18):\n",
    "        print(\"Eligible\")\n",
    "        message=\"Eligible\"\n",
    "    else:\n",
    "        print(\"NOT ELIGIBLE\")\n",
    "        message=\"NOT ELIGIBLE\"\n",
    "    return message"
   ]
  },
  {
   "cell_type": "code",
   "execution_count": 12,
   "id": "e0bbf502",
   "metadata": {},
   "outputs": [
    {
     "name": "stdout",
     "output_type": "stream",
     "text": [
      "Your Gender:Male\n",
      "Your Age:20\n",
      "NOT ELIGIBLE\n"
     ]
    },
    {
     "data": {
      "text/plain": [
       "'NOT ELIGIBLE'"
      ]
     },
     "execution_count": 12,
     "metadata": {},
     "output_type": "execute_result"
    }
   ],
   "source": [
    "Eligibility()"
   ]
  },
  {
   "cell_type": "code",
   "execution_count": 13,
   "id": "11afece1",
   "metadata": {},
   "outputs": [],
   "source": [
    "def percentage():\n",
    "    Sub1=int(input(\"Subject1= \"))\n",
    "    Sub2=int(input(\"Subject2= \"))\n",
    "    Sub3=int(input(\"Subject3= \"))\n",
    "    Sub4=int(input(\"Subject4= \"))\n",
    "    Sub5=int(input(\"Subject5= \"))\n",
    "    Total=Sub1+Sub2+Sub3+Sub4+Sub5\n",
    "    print(\"Total : \",Total)\n",
    "    Percent=Total/5\n",
    "    print(\"Percentage : \",Percent)"
   ]
  },
  {
   "cell_type": "code",
   "execution_count": 14,
   "id": "9308b639",
   "metadata": {},
   "outputs": [
    {
     "name": "stdout",
     "output_type": "stream",
     "text": [
      "Subject1= 98\n",
      "Subject2= 87\n",
      "Subject3= 95\n",
      "Subject4= 95\n",
      "Subject5= 93\n",
      "Total :  468\n",
      "Percentage :  93.6\n"
     ]
    }
   ],
   "source": [
    "percentage()"
   ]
  },
  {
   "cell_type": "code",
   "execution_count": 15,
   "id": "2ab5d334",
   "metadata": {},
   "outputs": [],
   "source": [
    "def triangle():\n",
    "    Ht=int(input(\"Height:\"))\n",
    "    Br=int(input(\"Breadth:\"))\n",
    "    Area=(Ht*Br)/2\n",
    "    print(\"Area of Triangle:\",Area)\n",
    "    Ht1=int(input(\"Height1:\"))\n",
    "    Ht2=int(input(\"Height2:\"))\n",
    "    Br1=int(input(\"Breadth1:\"))\n",
    "    Peri=Ht1+Ht2+Br1\n",
    "    print(\"Perimeter of Triangle: \",Peri)"
   ]
  },
  {
   "cell_type": "code",
   "execution_count": 16,
   "id": "edd55c32",
   "metadata": {},
   "outputs": [
    {
     "name": "stdout",
     "output_type": "stream",
     "text": [
      "Height:32\n",
      "Breadth:34\n",
      "Area of Triangle: 544.0\n",
      "Height1:2\n",
      "Height2:4\n",
      "Breadth1:4\n",
      "Perimeter of Triangle:  10\n"
     ]
    }
   ],
   "source": [
    "triangle()"
   ]
  },
  {
   "cell_type": "code",
   "execution_count": null,
   "id": "801abb98",
   "metadata": {},
   "outputs": [],
   "source": []
  }
 ],
 "metadata": {
  "kernelspec": {
   "display_name": "Python 3 (ipykernel)",
   "language": "python",
   "name": "python3"
  },
  "language_info": {
   "codemirror_mode": {
    "name": "ipython",
    "version": 3
   },
   "file_extension": ".py",
   "mimetype": "text/x-python",
   "name": "python",
   "nbconvert_exporter": "python",
   "pygments_lexer": "ipython3",
   "version": "3.11.5"
  }
 },
 "nbformat": 4,
 "nbformat_minor": 5
}
